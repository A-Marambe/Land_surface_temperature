{
  "nbformat": 4,
  "nbformat_minor": 0,
  "metadata": {
    "kernelspec": {
      "display_name": "Python 3",
      "language": "python",
      "name": "python3"
    },
    "language_info": {
      "codemirror_mode": {
        "name": "ipython",
        "version": 3
      },
      "file_extension": ".py",
      "mimetype": "text/x-python",
      "name": "python",
      "nbconvert_exporter": "python",
      "pygments_lexer": "ipython3",
      "version": "3.7.4"
    },
    "colab": {
      "name": "Default-Warning.ipynb",
      "provenance": [],
      "include_colab_link": true
    }
  },
  "cells": [
    {
      "cell_type": "markdown",
      "metadata": {
        "id": "view-in-github",
        "colab_type": "text"
      },
      "source": [
        "<a href=\"https://colab.research.google.com/github/A-Marambe/Land_surface_temperature/blob/master/Default_Warning.ipynb\" target=\"_parent\"><img src=\"https://colab.research.google.com/assets/colab-badge.svg\" alt=\"Open In Colab\"/></a>"
      ]
    },
    {
      "cell_type": "code",
      "metadata": {
        "id": "1_fe4ufDM5l3",
        "colab_type": "code",
        "colab": {}
      },
      "source": [
        "# data manipulation imports\n",
        "import pandas as pd\n",
        "import geopandas as gpd\n",
        "import gdal\n",
        "from matplotlib import pyplot as plt\n",
        "\n",
        "# system imports\n",
        "import os\n",
        "import glob"
      ],
      "execution_count": 0,
      "outputs": []
    },
    {
      "cell_type": "code",
      "metadata": {
        "id": "go7gJ2GsM5mF",
        "colab_type": "code",
        "colab": {},
        "outputId": "cb694648-7cf7-45df-cab9-c867a88ebd94"
      },
      "source": [
        "# import distric map\n",
        "district_poly_list = glob.glob(\".\\\\input_shapes\\\\*.shp\")\n",
        "\n",
        "district_lateset = max(district_poly_list, key=os.path.getctime)\n",
        "\n",
        "# read district poly\n",
        "district_lateset = gpd.read_file(district_lateset)\n",
        "district_lateset = district_lateset[['ADM2_EN', 'geometry']]\n",
        "\n",
        "# select and rename columns\n",
        "district_lateset.columns = ['district', 'geometry']\n",
        "district_lateset.head()\n",
        "district_lateset.plot()\n",
        "district_lateset.head()"
      ],
      "execution_count": 0,
      "outputs": [
        {
          "output_type": "execute_result",
          "data": {
            "text/html": [
              "<div>\n",
              "<style scoped>\n",
              "    .dataframe tbody tr th:only-of-type {\n",
              "        vertical-align: middle;\n",
              "    }\n",
              "\n",
              "    .dataframe tbody tr th {\n",
              "        vertical-align: top;\n",
              "    }\n",
              "\n",
              "    .dataframe thead th {\n",
              "        text-align: right;\n",
              "    }\n",
              "</style>\n",
              "<table border=\"1\" class=\"dataframe\">\n",
              "  <thead>\n",
              "    <tr style=\"text-align: right;\">\n",
              "      <th></th>\n",
              "      <th>district</th>\n",
              "      <th>geometry</th>\n",
              "    </tr>\n",
              "  </thead>\n",
              "  <tbody>\n",
              "    <tr>\n",
              "      <td>0</td>\n",
              "      <td>[unknown]</td>\n",
              "      <td>POLYGON ((79.80303 7.85030, 79.80333 7.84946, ...</td>\n",
              "    </tr>\n",
              "    <tr>\n",
              "      <td>1</td>\n",
              "      <td>Ampara</td>\n",
              "      <td>POLYGON ((81.23892 7.73850, 81.23903 7.73846, ...</td>\n",
              "    </tr>\n",
              "    <tr>\n",
              "      <td>2</td>\n",
              "      <td>Anuradhapura</td>\n",
              "      <td>POLYGON ((80.79126 8.91877, 80.79164 8.91876, ...</td>\n",
              "    </tr>\n",
              "    <tr>\n",
              "      <td>3</td>\n",
              "      <td>Badulla</td>\n",
              "      <td>POLYGON ((80.98060 7.61768, 80.98104 7.61765, ...</td>\n",
              "    </tr>\n",
              "    <tr>\n",
              "      <td>4</td>\n",
              "      <td>Batticaloa</td>\n",
              "      <td>MULTIPOLYGON (((81.76936 7.53607, 81.76918 7.5...</td>\n",
              "    </tr>\n",
              "  </tbody>\n",
              "</table>\n",
              "</div>"
            ],
            "text/plain": [
              "       district                                           geometry\n",
              "0     [unknown]  POLYGON ((79.80303 7.85030, 79.80333 7.84946, ...\n",
              "1        Ampara  POLYGON ((81.23892 7.73850, 81.23903 7.73846, ...\n",
              "2  Anuradhapura  POLYGON ((80.79126 8.91877, 80.79164 8.91876, ...\n",
              "3       Badulla  POLYGON ((80.98060 7.61768, 80.98104 7.61765, ...\n",
              "4    Batticaloa  MULTIPOLYGON (((81.76936 7.53607, 81.76918 7.5..."
            ]
          },
          "metadata": {
            "tags": []
          },
          "execution_count": 2
        },
        {
          "output_type": "display_data",
          "data": {
            "image/png": "[encoded data removed]",
            "text/plain": [
              "<Figure size 432x288 with 1 Axes>"
            ]
          },
          "metadata": {
            "tags": [],
            "needs_background": "light"
          }
        }
      ]
    },
    {
      "cell_type": "code",
      "metadata": {
        "id": "0S3LuUISM5mR",
        "colab_type": "code",
        "colab": {},
        "outputId": "0e08cae1-e86e-417e-b4d7-fc5387a4c289"
      },
      "source": [
        "# weather feed lateset\n",
        "weather_data_list =  glob.glob(\".\\\\weather_feed\\\\*.csv\")\n",
        "latest_precep = max(weather_data_list, key=os.path.getctime)\n",
        "weather_source = pd.read_csv(latest_precep)\n",
        "weather_source = weather_source[['date', 'precep(mm)','lon','lat']]\n",
        "weather_source"
      ],
      "execution_count": 0,
      "outputs": [
        {
          "output_type": "execute_result",
          "data": {
            "text/html": [
              "<div>\n",
              "<style scoped>\n",
              "    .dataframe tbody tr th:only-of-type {\n",
              "        vertical-align: middle;\n",
              "    }\n",
              "\n",
              "    .dataframe tbody tr th {\n",
              "        vertical-align: top;\n",
              "    }\n",
              "\n",
              "    .dataframe thead th {\n",
              "        text-align: right;\n",
              "    }\n",
              "</style>\n",
              "<table border=\"1\" class=\"dataframe\">\n",
              "  <thead>\n",
              "    <tr style=\"text-align: right;\">\n",
              "      <th></th>\n",
              "      <th>date</th>\n",
              "      <th>precep(mm)</th>\n",
              "      <th>lon</th>\n",
              "      <th>lat</th>\n",
              "    </tr>\n",
              "  </thead>\n",
              "  <tbody>\n",
              "    <tr>\n",
              "      <td>0</td>\n",
              "      <td>2020-06-07</td>\n",
              "      <td>100.0</td>\n",
              "      <td>80.6337</td>\n",
              "      <td>7.2906</td>\n",
              "    </tr>\n",
              "    <tr>\n",
              "      <td>1</td>\n",
              "      <td>2020-06-07</td>\n",
              "      <td>150.0</td>\n",
              "      <td>80.6234</td>\n",
              "      <td>7.4670</td>\n",
              "    </tr>\n",
              "    <tr>\n",
              "      <td>2</td>\n",
              "      <td>2020-06-07</td>\n",
              "      <td>20.0</td>\n",
              "      <td>80.3464</td>\n",
              "      <td>7.2513</td>\n",
              "    </tr>\n",
              "  </tbody>\n",
              "</table>\n",
              "</div>"
            ],
            "text/plain": [
              "         date  precep(mm)      lon     lat\n",
              "0  2020-06-07       100.0  80.6337  7.2906\n",
              "1  2020-06-07       150.0  80.6234  7.4670\n",
              "2  2020-06-07        20.0  80.3464  7.2513"
            ]
          },
          "metadata": {
            "tags": []
          },
          "execution_count": 3
        }
      ]
    },
    {
      "cell_type": "code",
      "metadata": {
        "id": "c8Wy9yDGM5mZ",
        "colab_type": "code",
        "colab": {},
        "outputId": "d1904a6e-5290-4198-d99a-8f3d6317436e"
      },
      "source": [
        "# weather data convert to gdf\n",
        "rain_gdf = gpd.GeoDataFrame(weather_source, geometry=gpd.points_from_xy(weather_source.lon, weather_source.lat))\n",
        "rain_gdf = rain_gdf[['date','precep(mm)', 'geometry']]\n",
        "rain_gdf.columns = ['date','precep', 'geometry']\n",
        "\n",
        "# change CRS to same\n",
        "\n",
        "\n",
        "rain_gdf"
      ],
      "execution_count": 0,
      "outputs": [
        {
          "output_type": "execute_result",
          "data": {
            "text/html": [
              "<div>\n",
              "<style scoped>\n",
              "    .dataframe tbody tr th:only-of-type {\n",
              "        vertical-align: middle;\n",
              "    }\n",
              "\n",
              "    .dataframe tbody tr th {\n",
              "        vertical-align: top;\n",
              "    }\n",
              "\n",
              "    .dataframe thead th {\n",
              "        text-align: right;\n",
              "    }\n",
              "</style>\n",
              "<table border=\"1\" class=\"dataframe\">\n",
              "  <thead>\n",
              "    <tr style=\"text-align: right;\">\n",
              "      <th></th>\n",
              "      <th>date</th>\n",
              "      <th>precep</th>\n",
              "      <th>geometry</th>\n",
              "    </tr>\n",
              "  </thead>\n",
              "  <tbody>\n",
              "    <tr>\n",
              "      <td>0</td>\n",
              "      <td>2020-06-07</td>\n",
              "      <td>100.0</td>\n",
              "      <td>POINT (80.63370 7.29060)</td>\n",
              "    </tr>\n",
              "    <tr>\n",
              "      <td>1</td>\n",
              "      <td>2020-06-07</td>\n",
              "      <td>150.0</td>\n",
              "      <td>POINT (80.62340 7.46700)</td>\n",
              "    </tr>\n",
              "    <tr>\n",
              "      <td>2</td>\n",
              "      <td>2020-06-07</td>\n",
              "      <td>20.0</td>\n",
              "      <td>POINT (80.34640 7.25130)</td>\n",
              "    </tr>\n",
              "  </tbody>\n",
              "</table>\n",
              "</div>"
            ],
            "text/plain": [
              "         date  precep                  geometry\n",
              "0  2020-06-07   100.0  POINT (80.63370 7.29060)\n",
              "1  2020-06-07   150.0  POINT (80.62340 7.46700)\n",
              "2  2020-06-07    20.0  POINT (80.34640 7.25130)"
            ]
          },
          "metadata": {
            "tags": []
          },
          "execution_count": 4
        }
      ]
    },
    {
      "cell_type": "code",
      "metadata": {
        "id": "GfQJQfqwM5mi",
        "colab_type": "code",
        "colab": {},
        "outputId": "4c25d5cc-47cb-4deb-dfd6-b1bc8ae9488c"
      },
      "source": [
        "# drop by index :: rains lower than 50 mm\n",
        "\n",
        "# do intersection\n",
        "rain_obs = gpd.sjoin(district_lateset, rain_gdf, how=\"inner\", op='contains')\n",
        "rain_obs\n",
        "\n"
      ],
      "execution_count": 0,
      "outputs": [
        {
          "output_type": "stream",
          "text": [
            "C:\\Users\\User\\Anaconda3\\lib\\site-packages\\geopandas\\tools\\sjoin.py:61: UserWarning: CRS of frames being joined does not match!({'init': 'epsg:4326'} != None)\n",
            "  \"(%s != %s)\" % (left_df.crs, right_df.crs)\n"
          ],
          "name": "stderr"
        },
        {
          "output_type": "execute_result",
          "data": {
            "text/html": [
              "<div>\n",
              "<style scoped>\n",
              "    .dataframe tbody tr th:only-of-type {\n",
              "        vertical-align: middle;\n",
              "    }\n",
              "\n",
              "    .dataframe tbody tr th {\n",
              "        vertical-align: top;\n",
              "    }\n",
              "\n",
              "    .dataframe thead th {\n",
              "        text-align: right;\n",
              "    }\n",
              "</style>\n",
              "<table border=\"1\" class=\"dataframe\">\n",
              "  <thead>\n",
              "    <tr style=\"text-align: right;\">\n",
              "      <th></th>\n",
              "      <th>district</th>\n",
              "      <th>geometry</th>\n",
              "      <th>index_right</th>\n",
              "      <th>date</th>\n",
              "      <th>precep</th>\n",
              "    </tr>\n",
              "  </thead>\n",
              "  <tbody>\n",
              "    <tr>\n",
              "      <td>11</td>\n",
              "      <td>Kandy</td>\n",
              "      <td>POLYGON ((80.95625 7.48809, 80.95647 7.48787, ...</td>\n",
              "      <td>0</td>\n",
              "      <td>2020-06-07</td>\n",
              "      <td>100.0</td>\n",
              "    </tr>\n",
              "    <tr>\n",
              "      <td>12</td>\n",
              "      <td>Kegalle</td>\n",
              "      <td>MULTIPOLYGON (((80.15908 7.19821, 80.15877 7.1...</td>\n",
              "      <td>2</td>\n",
              "      <td>2020-06-07</td>\n",
              "      <td>20.0</td>\n",
              "    </tr>\n",
              "    <tr>\n",
              "      <td>16</td>\n",
              "      <td>Matale</td>\n",
              "      <td>POLYGON ((80.75750 8.00496, 80.75923 8.00364, ...</td>\n",
              "      <td>1</td>\n",
              "      <td>2020-06-07</td>\n",
              "      <td>150.0</td>\n",
              "    </tr>\n",
              "  </tbody>\n",
              "</table>\n",
              "</div>"
            ],
            "text/plain": [
              "   district                                           geometry  index_right  \\\n",
              "11    Kandy  POLYGON ((80.95625 7.48809, 80.95647 7.48787, ...            0   \n",
              "12  Kegalle  MULTIPOLYGON (((80.15908 7.19821, 80.15877 7.1...            2   \n",
              "16   Matale  POLYGON ((80.75750 8.00496, 80.75923 8.00364, ...            1   \n",
              "\n",
              "          date  precep  \n",
              "11  2020-06-07   100.0  \n",
              "12  2020-06-07    20.0  \n",
              "16  2020-06-07   150.0  "
            ]
          },
          "metadata": {
            "tags": []
          },
          "execution_count": 5
        }
      ]
    },
    {
      "cell_type": "code",
      "metadata": {
        "id": "Icm81ofzM5mt",
        "colab_type": "code",
        "colab": {}
      },
      "source": [
        "# creating a column to risk level\n",
        "\n",
        "rain_obs.loc[(rain_obs.precep>125),'risk_level']= \"high\"\n",
        "rain_obs.loc[(rain_obs.precep>75) & (rain_obs.precep<125), 'risk_level']= \"medium\"\n",
        "rain_obs.loc[(rain_obs.precep<75) & (rain_obs.precep>50), 'risk_level']= \"low\"\n"
      ],
      "execution_count": 0,
      "outputs": []
    },
    {
      "cell_type": "code",
      "metadata": {
        "id": "TGFt0pu1M5m2",
        "colab_type": "code",
        "colab": {},
        "outputId": "94733701-6078-4bdc-9fd9-f0296f944742"
      },
      "source": [
        "# drop NaN  risks\n",
        "risk_table = rain_obs.dropna(how='any')\n",
        "\n",
        "# color assignment\n",
        "risk_table.loc[(risk_table.risk_level=='medium'),'risk_color']= 'y'\n",
        "risk_table.loc[(risk_table.risk_level=='high'),'risk_color']= 'r'\n",
        "\n",
        "# colors to list\n",
        "rsk_colors = list(risk_table['risk_color'])\n",
        "risk_table"
      ],
      "execution_count": 0,
      "outputs": [
        {
          "output_type": "stream",
          "text": [
            "C:\\Users\\User\\Anaconda3\\lib\\site-packages\\pandas\\core\\indexing.py:376: SettingWithCopyWarning: \n",
            "A value is trying to be set on a copy of a slice from a DataFrame.\n",
            "Try using .loc[row_indexer,col_indexer] = value instead\n",
            "\n",
            "See the caveats in the documentation: http://pandas.pydata.org/pandas-docs/stable/user_guide/indexing.html#returning-a-view-versus-a-copy\n",
            "  self.obj[key] = _infer_fill_value(value)\n",
            "C:\\Users\\User\\Anaconda3\\lib\\site-packages\\pandas\\core\\indexing.py:494: SettingWithCopyWarning: \n",
            "A value is trying to be set on a copy of a slice from a DataFrame.\n",
            "Try using .loc[row_indexer,col_indexer] = value instead\n",
            "\n",
            "See the caveats in the documentation: http://pandas.pydata.org/pandas-docs/stable/user_guide/indexing.html#returning-a-view-versus-a-copy\n",
            "  self.obj[item] = s\n"
          ],
          "name": "stderr"
        },
        {
          "output_type": "execute_result",
          "data": {
            "text/html": [
              "<div>\n",
              "<style scoped>\n",
              "    .dataframe tbody tr th:only-of-type {\n",
              "        vertical-align: middle;\n",
              "    }\n",
              "\n",
              "    .dataframe tbody tr th {\n",
              "        vertical-align: top;\n",
              "    }\n",
              "\n",
              "    .dataframe thead th {\n",
              "        text-align: right;\n",
              "    }\n",
              "</style>\n",
              "<table border=\"1\" class=\"dataframe\">\n",
              "  <thead>\n",
              "    <tr style=\"text-align: right;\">\n",
              "      <th></th>\n",
              "      <th>district</th>\n",
              "      <th>geometry</th>\n",
              "      <th>index_right</th>\n",
              "      <th>date</th>\n",
              "      <th>precep</th>\n",
              "      <th>risk_level</th>\n",
              "      <th>risk_color</th>\n",
              "    </tr>\n",
              "  </thead>\n",
              "  <tbody>\n",
              "    <tr>\n",
              "      <td>11</td>\n",
              "      <td>Kandy</td>\n",
              "      <td>POLYGON ((80.95625 7.48809, 80.95647 7.48787, ...</td>\n",
              "      <td>0</td>\n",
              "      <td>2020-06-07</td>\n",
              "      <td>100.0</td>\n",
              "      <td>medium</td>\n",
              "      <td>y</td>\n",
              "    </tr>\n",
              "    <tr>\n",
              "      <td>16</td>\n",
              "      <td>Matale</td>\n",
              "      <td>POLYGON ((80.75750 8.00496, 80.75923 8.00364, ...</td>\n",
              "      <td>1</td>\n",
              "      <td>2020-06-07</td>\n",
              "      <td>150.0</td>\n",
              "      <td>high</td>\n",
              "      <td>r</td>\n",
              "    </tr>\n",
              "  </tbody>\n",
              "</table>\n",
              "</div>"
            ],
            "text/plain": [
              "   district                                           geometry  index_right  \\\n",
              "11    Kandy  POLYGON ((80.95625 7.48809, 80.95647 7.48787, ...            0   \n",
              "16   Matale  POLYGON ((80.75750 8.00496, 80.75923 8.00364, ...            1   \n",
              "\n",
              "          date  precep risk_level risk_color  \n",
              "11  2020-06-07   100.0     medium          y  \n",
              "16  2020-06-07   150.0       high          r  "
            ]
          },
          "metadata": {
            "tags": []
          },
          "execution_count": 19
        }
      ]
    },
    {
      "cell_type": "code",
      "metadata": {
        "id": "Xl8fmZ68M5m_",
        "colab_type": "code",
        "colab": {},
        "outputId": "051ba9d5-13a9-47b9-fc62-de4a77a8309c"
      },
      "source": [
        "fig, ax = plt.subplots(figsize=(8, 12))\n",
        "#district_lateset.plot(facecolor=(0.1843, 0.3098, 0.3098), ax=ax)\n",
        "district_lateset.plot(facecolor='k', ax=ax)\n",
        "risk_table.plot(column='risk_level', legend=True, ax= ax)"
      ],
      "execution_count": 0,
      "outputs": [
        {
          "output_type": "execute_result",
          "data": {
            "text/plain": [
              "<matplotlib.axes._subplots.AxesSubplot at 0x31836116c8>"
            ]
          },
          "metadata": {
            "tags": []
          },
          "execution_count": 27
        },
        {
          "output_type": "display_data",
          "data": {
            "image/png": "[encoded data removed]",
            "text/plain": [
              "<Figure size 576x864 with 1 Axes>"
            ]
          },
          "metadata": {
            "tags": [],
            "needs_background": "light"
          }
        }
      ]
    },
    {
      "cell_type": "code",
      "metadata": {
        "id": "sIfDa159M5nH",
        "colab_type": "code",
        "colab": {}
      },
      "source": [
        ""
      ],
      "execution_count": 0,
      "outputs": []
    },
    {
      "cell_type": "code",
      "metadata": {
        "id": "l1N9fDIHM5nN",
        "colab_type": "code",
        "colab": {}
      },
      "source": [
        "# Email the risk level\n"
      ],
      "execution_count": 0,
      "outputs": []
    },
    {
      "cell_type": "code",
      "metadata": {
        "id": "8ShRBBIWM5nT",
        "colab_type": "code",
        "colab": {}
      },
      "source": [
        ""
      ],
      "execution_count": 0,
      "outputs": []
    }
  ]
}